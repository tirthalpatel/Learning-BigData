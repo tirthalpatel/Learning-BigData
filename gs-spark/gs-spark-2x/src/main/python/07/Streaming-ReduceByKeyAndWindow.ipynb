{
 "cells": [
  {
   "cell_type": "markdown",
   "metadata": {},
   "source": [
    "# Summarizing Data over a Window - The reduceByKeyAndWindow Transformation\n",
    "\n",
    "__Requirement__: Count the occurrences of \"HelloWorld\" messages received from text stream in window interval by applying the reduceByKeyAndWindow() on a DStream"
   ]
  },
  {
   "cell_type": "markdown",
   "metadata": {},
   "source": [
    "### Prerequisites\n",
    "\n",
    "Run Netcat (a small utility found in most Unix-like systems) as a data server by using: `nc -lc 9999`\n",
    "\n",
    "For windows: [download netcat](https://joncraton.org/blog/46/netcat-for-windows) and run: `nc -l -p 9999`"
   ]
  },
  {
   "cell_type": "markdown",
   "metadata": {},
   "source": [
    "### Create a StreamingContext and a DStream\n",
    "\n",
    "<font color=\"red\">TODO: Configure checkpoint path</red>"
   ]
  },
  {
   "cell_type": "code",
   "execution_count": 1,
   "metadata": {},
   "outputs": [],
   "source": [
    "from pyspark.streaming import StreamingContext\n",
    "\n",
    "ssc = StreamingContext(sc, 2)\n",
    "\n",
    "# ssc.checkpoint(\"file:///tmp/spark\")\n",
    "ssc.checkpoint(\"D:\\\\x-temp\\\\temp-spark\\\\07\\\\03\")\n",
    "\n",
    "lines = ssc.socketTextStream(\"localhost\", 9999)"
   ]
  },
  {
   "cell_type": "markdown",
   "metadata": {},
   "source": [
    "### Perform reduceByKeyAndWindow Transformation on DStream and Print"
   ]
  },
  {
   "cell_type": "code",
   "execution_count": 2,
   "metadata": {},
   "outputs": [],
   "source": [
    "# Count the total number of \"HELLOWORLD\" messages over a window            \n",
    "counts = lines.flatMap(lambda line: line.split(\" \"))\\\n",
    "              .filter(lambda word:\"HELLOWORLD\" in word)\\\n",
    "              .map(lambda word: (word, 1))\\\n",
    "              .reduceByKeyAndWindow(lambda a, b: a + b,    # Acts on (word, 1) tuple and sums all count associated with the same word in the window\n",
    "                                    lambda a, b: a - b,    # The inverse function to substract word counts when the tuples move out of the window\n",
    "                                    12, 4)                 # 12 window size, 4 sliding interval"
   ]
  },
  {
   "cell_type": "code",
   "execution_count": 3,
   "metadata": {},
   "outputs": [],
   "source": [
    "# Print count of 'HelloWorld' over a window interval\n",
    "counts.pprint()"
   ]
  },
  {
   "cell_type": "markdown",
   "metadata": {},
   "source": [
    "### Start Listening for Streaming Data"
   ]
  },
  {
   "cell_type": "markdown",
   "metadata": {},
   "source": [
    "Run \"netcat\" on localhost:9999 and start entering few messages"
   ]
  },
  {
   "cell_type": "code",
   "execution_count": null,
   "metadata": {},
   "outputs": [
    {
     "name": "stdout",
     "output_type": "stream",
     "text": [
      "-------------------------------------------\n",
      "Time: 2018-07-20 18:52:14\n",
      "-------------------------------------------\n",
      "\n",
      "-------------------------------------------\n",
      "Time: 2018-07-20 18:52:18\n",
      "-------------------------------------------\n",
      "('HELLOWORLD', 2)\n",
      "\n",
      "-------------------------------------------\n",
      "Time: 2018-07-20 18:52:22\n",
      "-------------------------------------------\n",
      "('HELLOWORLD', 5)\n",
      "\n",
      "-------------------------------------------\n",
      "Time: 2018-07-20 18:52:26\n",
      "-------------------------------------------\n",
      "('HELLOWORLD', 6)\n",
      "\n",
      "-------------------------------------------\n",
      "Time: 2018-07-20 18:52:30\n",
      "-------------------------------------------\n",
      "('HELLOWORLD', 5)\n",
      "\n",
      "-------------------------------------------\n",
      "Time: 2018-07-20 18:52:34\n",
      "-------------------------------------------\n",
      "('HELLOWORLD', 2)\n",
      "\n",
      "-------------------------------------------\n",
      "Time: 2018-07-20 18:52:38\n",
      "-------------------------------------------\n",
      "('HELLOWORLD', 1)\n",
      "\n",
      "-------------------------------------------\n",
      "Time: 2018-07-20 18:52:42\n",
      "-------------------------------------------\n",
      "\n"
     ]
    }
   ],
   "source": [
    "ssc.start() # Start the computation\n",
    "\n",
    "ssc.awaitTermination() # Wait for the computation to terminate"
   ]
  }
 ],
 "metadata": {
  "kernelspec": {
   "display_name": "Python 3",
   "language": "python",
   "name": "python3"
  },
  "language_info": {
   "codemirror_mode": {
    "name": "ipython",
    "version": 3
   },
   "file_extension": ".py",
   "mimetype": "text/x-python",
   "name": "python",
   "nbconvert_exporter": "python",
   "pygments_lexer": "ipython3",
   "version": "3.6.5"
  }
 },
 "nbformat": 4,
 "nbformat_minor": 1
}
