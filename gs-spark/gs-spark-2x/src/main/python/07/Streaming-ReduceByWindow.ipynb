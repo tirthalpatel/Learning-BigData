{
 "cells": [
  {
   "cell_type": "markdown",
   "metadata": {},
   "source": [
    "# Summarizing Data over a Window - The reduceByWindow Transformation\n",
    "\n",
    "__Requirement__: Sum the integers received in window interval by applying the reduceByWindow() on a DStream"
   ]
  },
  {
   "cell_type": "markdown",
   "metadata": {},
   "source": [
    "### Prerequisites\n",
    "\n",
    "Run Netcat (a small utility found in most Unix-like systems) as a data server by using: `nc -lc 9999`\n",
    "\n",
    "For windows: [download netcat](https://joncraton.org/blog/46/netcat-for-windows) and run: `nc -l -p 9999`"
   ]
  },
  {
   "cell_type": "markdown",
   "metadata": {},
   "source": [
    "### Create a StreamingContext and a DStream\n",
    "\n",
    "<font color=\"red\">TODO: Configure checkpoint path</red>"
   ]
  },
  {
   "cell_type": "code",
   "execution_count": 2,
   "metadata": {},
   "outputs": [],
   "source": [
    "from pyspark.streaming import StreamingContext\n",
    "\n",
    "ssc = StreamingContext(sc, 2)\n",
    "\n",
    "# ssc.checkpoint(\"file:///tmp/spark\")\n",
    "ssc.checkpoint(\"D:\\\\x-temp\\\\temp-spark\\\\07\\\\02\")\n",
    "\n",
    "lines = ssc.socketTextStream(\"localhost\", 9999)"
   ]
  },
  {
   "cell_type": "markdown",
   "metadata": {},
   "source": [
    "### Perform reduceByWindow Transformation on DStream and Print"
   ]
  },
  {
   "cell_type": "code",
   "execution_count": 3,
   "metadata": {},
   "outputs": [],
   "source": [
    "# Sum the integers over a window \n",
    "sum = lines.reduceByWindow(\n",
    "    lambda x, y: int(x) + int(y),  # Summary function to count the numbers which come in as a stream \n",
    "    lambda x, y: int(x) - int(y),  # Inverse function to substract the numbers which leave the window\n",
    "    12, 4)                         # 12 window size, 4 sliding interval"
   ]
  },
  {
   "cell_type": "code",
   "execution_count": 4,
   "metadata": {},
   "outputs": [],
   "source": [
    "# Print sum of integers over a window\n",
    "sum.pprint()"
   ]
  },
  {
   "cell_type": "markdown",
   "metadata": {},
   "source": [
    "### Start Listening for Streaming Data"
   ]
  },
  {
   "cell_type": "markdown",
   "metadata": {},
   "source": [
    "Run \"netcat\" on localhost:9999 and start entering few messages"
   ]
  },
  {
   "cell_type": "code",
   "execution_count": null,
   "metadata": {},
   "outputs": [
    {
     "name": "stdout",
     "output_type": "stream",
     "text": [
      "-------------------------------------------\n",
      "Time: 2018-07-20 18:22:24\n",
      "-------------------------------------------\n",
      "\n",
      "-------------------------------------------\n",
      "Time: 2018-07-20 18:22:28\n",
      "-------------------------------------------\n",
      "40\n",
      "\n",
      "-------------------------------------------\n",
      "Time: 2018-07-20 18:22:32\n",
      "-------------------------------------------\n",
      "50\n",
      "\n",
      "-------------------------------------------\n",
      "Time: 2018-07-20 18:22:36\n",
      "-------------------------------------------\n",
      "50\n",
      "\n",
      "-------------------------------------------\n",
      "Time: 2018-07-20 18:22:40\n",
      "-------------------------------------------\n",
      "10\n",
      "\n",
      "-------------------------------------------\n",
      "Time: 2018-07-20 18:22:44\n",
      "-------------------------------------------\n",
      "\n"
     ]
    }
   ],
   "source": [
    "ssc.start() # Start the computation\n",
    "\n",
    "ssc.awaitTermination() # Wait for the computation to terminate"
   ]
  }
 ],
 "metadata": {
  "kernelspec": {
   "display_name": "Python 3",
   "language": "python",
   "name": "python3"
  },
  "language_info": {
   "codemirror_mode": {
    "name": "ipython",
    "version": 3
   },
   "file_extension": ".py",
   "mimetype": "text/x-python",
   "name": "python",
   "nbconvert_exporter": "python",
   "pygments_lexer": "ipython3",
   "version": "3.6.5"
  }
 },
 "nbformat": 4,
 "nbformat_minor": 1
}
