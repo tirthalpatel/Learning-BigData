{
 "cells": [
  {
   "cell_type": "markdown",
   "metadata": {},
   "source": [
    "# Summarizing Data over a Window - The countByWindow Transformation\n",
    "\n",
    "__Requirement__: Count the number of messages in window interval by applying the countByWindow() on a DStream"
   ]
  },
  {
   "cell_type": "markdown",
   "metadata": {},
   "source": [
    "__Theory__\n",
    "* Spark Streaming = a microbatch based streaming library\n",
    "* The streaming data is divided into batches based on time slice called batch interval\n",
    "* Every batch gets converted into an RDD and this continous stream of RDDs is represented as DStream\n",
    "* What if, we need to know what happened in last n seconds every m seconds in streaming data? For this, Spark streaming offers to apply transformations over a sliding window of data. \n",
    "* For example, let's say batch interval is 10 seconds and we need to know what happened in last 60 seconds every 30 seconds. Here, 60 seconds is called window length and 30 second slide interval. Let's say first 6 batches are A,B,C,D,E,F which are part of first window. After 30 seconds second window will reformed which will have D,E,F,G,H,I. That means, 3 batches (i.e. D,E,F) are common between first and second window.\n",
    "\n",
    "In summary,\n",
    "* Batch interval = the short duration of time (e.g. 10 seconds) to group messages of that duration into RDD\n",
    "* Window size = the duration of the window (e.g. 60 seconds) and all RDDs within a window are treated as a single combined RDD \n",
    "* Sliding interval = the interval (e.g. 30 seconds) at which the window operation is performed"
   ]
  },
  {
   "cell_type": "markdown",
   "metadata": {},
   "source": [
    "### Prerequisites\n",
    "\n",
    "Run Netcat (a small utility found in most Unix-like systems) as a data server by using: `nc -lc 9999`\n",
    "\n",
    "For windows: [download netcat](https://joncraton.org/blog/46/netcat-for-windows) and run: `nc -l -p 9999`"
   ]
  },
  {
   "cell_type": "markdown",
   "metadata": {},
   "source": [
    "### Create a StreamingContext and a DStream\n",
    "\n",
    "<font color=\"red\">TODO: Configure checkpoint path</red>"
   ]
  },
  {
   "cell_type": "code",
   "execution_count": 1,
   "metadata": {},
   "outputs": [],
   "source": [
    "from pyspark.streaming import StreamingContext\n",
    "\n",
    "ssc = StreamingContext(sc, 2)\n",
    "\n",
    "# ssc.checkpoint(\"file:///tmp/spark\")\n",
    "ssc.checkpoint(\"D:\\\\x-temp\\\\temp-spark\\\\07\\\\01\")\n",
    "\n",
    "lines = ssc.socketTextStream(\"localhost\", 9999)"
   ]
  },
  {
   "cell_type": "markdown",
   "metadata": {},
   "source": [
    "### Perform countByWindow Transformation on DStream and Print"
   ]
  },
  {
   "cell_type": "code",
   "execution_count": 2,
   "metadata": {},
   "outputs": [],
   "source": [
    "# Find count of messages over a window (12 window size, 4 sliding interval)\n",
    "counts = lines.countByWindow(12, 4)"
   ]
  },
  {
   "cell_type": "code",
   "execution_count": 3,
   "metadata": {},
   "outputs": [],
   "source": [
    "# Print a count messages over a window\n",
    "counts.pprint()"
   ]
  },
  {
   "cell_type": "markdown",
   "metadata": {},
   "source": [
    "### Start Listening for Streaming Data"
   ]
  },
  {
   "cell_type": "markdown",
   "metadata": {},
   "source": [
    "Run \"netcat\" on localhost:9999 and start entering few messages"
   ]
  },
  {
   "cell_type": "code",
   "execution_count": null,
   "metadata": {},
   "outputs": [
    {
     "name": "stdout",
     "output_type": "stream",
     "text": [
      "-------------------------------------------\n",
      "Time: 2018-07-19 14:17:24\n",
      "-------------------------------------------\n",
      "\n",
      "-------------------------------------------\n",
      "Time: 2018-07-19 14:17:28\n",
      "-------------------------------------------\n",
      "3\n",
      "\n",
      "-------------------------------------------\n",
      "Time: 2018-07-19 14:17:32\n",
      "-------------------------------------------\n",
      "8\n",
      "\n",
      "-------------------------------------------\n",
      "Time: 2018-07-19 14:17:36\n",
      "-------------------------------------------\n",
      "8\n",
      "\n",
      "-------------------------------------------\n",
      "Time: 2018-07-19 14:17:40\n",
      "-------------------------------------------\n",
      "5\n",
      "\n",
      "-------------------------------------------\n",
      "Time: 2018-07-19 14:17:44\n",
      "-------------------------------------------\n",
      "\n",
      "-------------------------------------------\n",
      "Time: 2018-07-19 14:17:48\n",
      "-------------------------------------------\n",
      "\n",
      "-------------------------------------------\n",
      "Time: 2018-07-19 14:17:52\n",
      "-------------------------------------------\n",
      "\n"
     ]
    }
   ],
   "source": [
    "ssc.start() # Start the computation\n",
    "\n",
    "ssc.awaitTermination() # Wait for the computation to terminate"
   ]
  }
 ],
 "metadata": {
  "kernelspec": {
   "display_name": "Python 3",
   "language": "python",
   "name": "python3"
  },
  "language_info": {
   "codemirror_mode": {
    "name": "ipython",
    "version": 3
   },
   "file_extension": ".py",
   "mimetype": "text/x-python",
   "name": "python",
   "nbconvert_exporter": "python",
   "pygments_lexer": "ipython3",
   "version": "3.6.5"
  }
 },
 "nbformat": 4,
 "nbformat_minor": 1
}
