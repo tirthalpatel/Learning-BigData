{
 "cells": [
  {
   "cell_type": "markdown",
   "metadata": {},
   "source": [
    "# Spark Streaming Simple Example\n",
    "\n",
    "__Requirement__: Count of \"HELLOWORLD\" (case sensitive) in each RDD (i.e. every batch interval) of Streaming Data from Server\n",
    "\n",
    "__Learning Objective:__\n",
    "\n",
    "* Create DStream using socketTextStream and start listening for streaming data"
   ]
  },
  {
   "cell_type": "markdown",
   "metadata": {},
   "source": [
    "### Prerequisites\n",
    "\n",
    "Run Netcat (a small utility found in most Unix-like systems) as a data server by using: `nc -lc 9999`\n",
    "\n",
    "For windows: [download netcat](https://joncraton.org/blog/46/netcat-for-windows) and run: `nc -l -p 9999`"
   ]
  },
  {
   "cell_type": "markdown",
   "metadata": {},
   "source": [
    "### Create a StreamingContext"
   ]
  },
  {
   "cell_type": "code",
   "execution_count": 1,
   "metadata": {},
   "outputs": [],
   "source": [
    "from pyspark.streaming import StreamingContext\n",
    "\n",
    "ssc = StreamingContext(sc, 10)\n",
    "\n",
    "# 10 = The batchInterval property of DStream created by this StreamingContext"
   ]
  },
  {
   "cell_type": "markdown",
   "metadata": {},
   "source": [
    "##### Setup Checkpoint\n",
    "\n",
    "For fault-tolerance of the created streams. For back-up of data at a specified frequency.\n",
    "\n",
    "<font color=\"red\">TODO: Configure checkpoint path</red>"
   ]
  },
  {
   "cell_type": "code",
   "execution_count": 2,
   "metadata": {},
   "outputs": [],
   "source": [
    "# ssc.checkpoint(\"file:///tmp/spark\")\n",
    "ssc.checkpoint(\"D:\\\\x-temp\\\\temp-spark\\\\05\")"
   ]
  },
  {
   "cell_type": "markdown",
   "metadata": {},
   "source": [
    "### Create a DStream to connect to hostname:port (e.g. localhost:9999)"
   ]
  },
  {
   "cell_type": "code",
   "execution_count": 3,
   "metadata": {},
   "outputs": [],
   "source": [
    "lines = ssc.socketTextStream(\"localhost\", 9999)"
   ]
  },
  {
   "cell_type": "markdown",
   "metadata": {},
   "source": [
    "This lines DStream represents the stream of data that will be received from the data server. Each record in this stream is a line of text. "
   ]
  },
  {
   "cell_type": "markdown",
   "metadata": {},
   "source": [
    "### Perform Operations on DStream"
   ]
  },
  {
   "cell_type": "code",
   "execution_count": 4,
   "metadata": {},
   "outputs": [],
   "source": [
    "# Find count of \"HELLOWORLD\" word in every batch interval (each batch interval is one RDD)\n",
    "\n",
    "counts = lines.flatMap(lambda line: line.split(\" \"))\\\n",
    "                  .filter(lambda word:\"HELLOWORLD\" in word)\\\n",
    "                  .map(lambda word: (word, 1))\\\n",
    "                  .reduceByKey(lambda a, b: a+b)"
   ]
  },
  {
   "cell_type": "code",
   "execution_count": 5,
   "metadata": {},
   "outputs": [],
   "source": [
    "# Print a counts of \"HELLOWORLD\" words generated in every batch interval\n",
    "counts.pprint()"
   ]
  },
  {
   "cell_type": "markdown",
   "metadata": {},
   "source": [
    "### Start Listening for Streaming Data"
   ]
  },
  {
   "cell_type": "markdown",
   "metadata": {},
   "source": [
    "Run \"netcat\" on localhost:9999 and start entering few lines/words including few occurences of \"HELLOWORLD\" word"
   ]
  },
  {
   "cell_type": "code",
   "execution_count": null,
   "metadata": {},
   "outputs": [
    {
     "name": "stdout",
     "output_type": "stream",
     "text": [
      "-------------------------------------------\n",
      "Time: 2018-07-18 18:29:50\n",
      "-------------------------------------------\n",
      "('HELLOWORLD', 1)\n",
      "\n",
      "-------------------------------------------\n",
      "Time: 2018-07-18 18:30:00\n",
      "-------------------------------------------\n",
      "('HELLOWORLD', 2)\n",
      "\n",
      "-------------------------------------------\n",
      "Time: 2018-07-18 18:30:10\n",
      "-------------------------------------------\n",
      "\n",
      "-------------------------------------------\n",
      "Time: 2018-07-18 18:30:20\n",
      "-------------------------------------------\n",
      "\n"
     ]
    }
   ],
   "source": [
    "ssc.start() # Start the computation\n",
    "\n",
    "ssc.awaitTermination() # Wait for the computation to terminate"
   ]
  }
 ],
 "metadata": {
  "kernelspec": {
   "display_name": "Python 3",
   "language": "python",
   "name": "python3"
  },
  "language_info": {
   "codemirror_mode": {
    "name": "ipython",
    "version": 3
   },
   "file_extension": ".py",
   "mimetype": "text/x-python",
   "name": "python",
   "nbconvert_exporter": "python",
   "pygments_lexer": "ipython3",
   "version": "3.6.5"
  }
 },
 "nbformat": 4,
 "nbformat_minor": 2
}
