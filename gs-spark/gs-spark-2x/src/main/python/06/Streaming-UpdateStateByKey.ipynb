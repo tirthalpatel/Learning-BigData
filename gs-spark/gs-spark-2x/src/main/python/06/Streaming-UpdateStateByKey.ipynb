{
 "cells": [
  {
   "cell_type": "markdown",
   "metadata": {},
   "source": [
    "# Summarizing Data in a Stream\n",
    "\n",
    "__Requirement__: Count the number of occurrences of \"HELLOWORLD\" (case sensitive) in a text stream by applying stateful updateStateByKey() on a DStream\n",
    "\n",
    "__Learning Objective:__\n",
    "\n",
    "* Summarizing Data in entire Stream using updateStateByKey of DStream\n",
    "* See usage of a stateful updateStateByKey operation of DStream"
   ]
  },
  {
   "cell_type": "markdown",
   "metadata": {},
   "source": [
    "__Types of Stream Transformations__ = \n",
    "* Stateless - Transformations which are applied on single RDD like map(), filter(), reduceByKey()\n",
    "* Stateful - Transformations which accumulate across multiple RDDs across a longer time interval (i.e. entire stream or window)"
   ]
  },
  {
   "cell_type": "markdown",
   "metadata": {},
   "source": [
    "### Prerequisites\n",
    "\n",
    "Run Netcat (a small utility found in most Unix-like systems) as a data server by using: `nc -lc 9999`\n",
    "\n",
    "For windows: [download netcat](https://joncraton.org/blog/46/netcat-for-windows) and run: `nc -l -p 9999`"
   ]
  },
  {
   "cell_type": "markdown",
   "metadata": {},
   "source": [
    "### Create a StreamingContext and a DStream\n",
    "\n",
    "<font color=\"red\">TODO: Configure checkpoint path</red>"
   ]
  },
  {
   "cell_type": "code",
   "execution_count": 1,
   "metadata": {},
   "outputs": [],
   "source": [
    "from pyspark.streaming import StreamingContext\n",
    "\n",
    "ssc = StreamingContext(sc, 5)\n",
    "\n",
    "# ssc.checkpoint(\"file:///tmp/spark\")\n",
    "ssc.checkpoint(\"D:\\\\x-temp\\\\temp-spark\\\\06\")\n",
    "\n",
    "lines = ssc.socketTextStream(\"localhost\", 9999)"
   ]
  },
  {
   "cell_type": "markdown",
   "metadata": {},
   "source": [
    "### Perform Stateful Operation (e.g. updateStateByKey) on DStream and Print"
   ]
  },
  {
   "cell_type": "code",
   "execution_count": 2,
   "metadata": {},
   "outputs": [],
   "source": [
    "# function to do sum of new value and last global sum\n",
    "def countWords(newValues, lastSum):\n",
    "    if lastSum is None:\n",
    "        lastSum = 0\n",
    "    return sum(newValues, lastSum)  \n",
    "\n",
    "# Find count of \"HELLOWORLD\" word in the entire Stream (i.e. multiple RDDs)\n",
    "counts = lines.flatMap(lambda line: line.split(\" \"))\\\n",
    "              .filter(lambda word:\"HELLOWORLD\" in word)\\\n",
    "              .map(lambda word: (word, 1))\\\n",
    "              .updateStateByKey(countWords)"
   ]
  },
  {
   "cell_type": "code",
   "execution_count": 3,
   "metadata": {},
   "outputs": [],
   "source": [
    "# Print a counts of \"HELLOWORLD\" words in the entire Stream\n",
    "counts.pprint()"
   ]
  },
  {
   "cell_type": "markdown",
   "metadata": {},
   "source": [
    "### Start Listening for Streaming Data"
   ]
  },
  {
   "cell_type": "markdown",
   "metadata": {},
   "source": [
    "Run \"netcat\" on localhost:9999 and start entering few lines/words including few occurences of \"HELLOWORLD\" word"
   ]
  },
  {
   "cell_type": "code",
   "execution_count": null,
   "metadata": {},
   "outputs": [
    {
     "name": "stdout",
     "output_type": "stream",
     "text": [
      "-------------------------------------------\n",
      "Time: 2018-07-18 18:31:20\n",
      "-------------------------------------------\n",
      "\n",
      "-------------------------------------------\n",
      "Time: 2018-07-18 18:31:25\n",
      "-------------------------------------------\n",
      "('HELLOWORLD', 2)\n",
      "\n",
      "-------------------------------------------\n",
      "Time: 2018-07-18 18:31:30\n",
      "-------------------------------------------\n",
      "('HELLOWORLD', 3)\n",
      "\n",
      "-------------------------------------------\n",
      "Time: 2018-07-18 18:31:35\n",
      "-------------------------------------------\n",
      "('HELLOWORLD', 6)\n",
      "\n",
      "-------------------------------------------\n",
      "Time: 2018-07-18 18:31:40\n",
      "-------------------------------------------\n",
      "('HELLOWORLD', 7)\n",
      "\n",
      "-------------------------------------------\n",
      "Time: 2018-07-18 18:31:45\n",
      "-------------------------------------------\n",
      "('HELLOWORLD', 7)\n",
      "\n",
      "-------------------------------------------\n",
      "Time: 2018-07-18 18:31:50\n",
      "-------------------------------------------\n",
      "('HELLOWORLD', 7)\n",
      "\n",
      "-------------------------------------------\n",
      "Time: 2018-07-18 18:31:55\n",
      "-------------------------------------------\n",
      "('HELLOWORLD', 7)\n",
      "\n"
     ]
    }
   ],
   "source": [
    "ssc.start() # Start the computation\n",
    "\n",
    "ssc.awaitTermination() # Wait for the computation to terminate"
   ]
  }
 ],
 "metadata": {
  "kernelspec": {
   "display_name": "Python 3",
   "language": "python",
   "name": "python3"
  },
  "language_info": {
   "codemirror_mode": {
    "name": "ipython",
    "version": 3
   },
   "file_extension": ".py",
   "mimetype": "text/x-python",
   "name": "python",
   "nbconvert_exporter": "python",
   "pygments_lexer": "ipython3",
   "version": "3.6.5"
  }
 },
 "nbformat": 4,
 "nbformat_minor": 2
}
