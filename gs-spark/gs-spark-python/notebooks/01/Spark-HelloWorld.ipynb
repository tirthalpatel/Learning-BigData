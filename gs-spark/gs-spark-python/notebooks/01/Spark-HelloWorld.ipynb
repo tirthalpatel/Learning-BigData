{
 "cells": [
  {
   "cell_type": "markdown",
   "metadata": {},
   "source": [
    "# A simple example of Spark RDD"
   ]
  },
  {
   "cell_type": "markdown",
   "metadata": {},
   "source": [
    "**sc = Spark Contenx**"
   ]
  },
  {
   "cell_type": "code",
   "execution_count": 1,
   "metadata": {
    "scrolled": true
   },
   "outputs": [
    {
     "data": {
      "text/html": [
       "\n",
       "        <div>\n",
       "            <p><b>SparkContext</b></p>\n",
       "\n",
       "            <p><a href=\"http://TirthalP-Laptop.cybage.com:4040\">Spark UI</a></p>\n",
       "\n",
       "            <dl>\n",
       "              <dt>Version</dt>\n",
       "                <dd><code>v2.3.1</code></dd>\n",
       "              <dt>Master</dt>\n",
       "                <dd><code>local[*]</code></dd>\n",
       "              <dt>AppName</dt>\n",
       "                <dd><code>PySparkShell</code></dd>\n",
       "            </dl>\n",
       "        </div>\n",
       "        "
      ],
      "text/plain": [
       "<SparkContext master=local[*] appName=PySparkShell>"
      ]
     },
     "execution_count": 1,
     "metadata": {},
     "output_type": "execute_result"
    }
   ],
   "source": [
    "sc"
   ]
  },
  {
   "cell_type": "markdown",
   "metadata": {},
   "source": [
    "**Loading a Data Set (e.g. CSV file) to get started with RDD**"
   ]
  },
  {
   "cell_type": "markdown",
   "metadata": {},
   "source": [
    "<font color=\"red\">TODO: configure correct \"filePath\"</font>"
   ]
  },
  {
   "cell_type": "code",
   "execution_count": 2,
   "metadata": {},
   "outputs": [],
   "source": [
    "filePath=\"D:\\\\Tirthal-LABs\\\\xLocal-Git-Repo\\\\Learning-BigData\\\\gs-spark\\\\gs-spark-python\\\\notebooks\\\\01\\\\users.csv\"\n",
    "## For Linux \"file:///Users/tirthalp/something/gs-spark-python/notebooks/01/users.csv\"\n",
    "## For Windows \"C:\\\\Users\\\\tirthalp\\\\something\\\\gs-spark-python\\\\notebooks\\\\01\\\\users.csv\"\n",
    "usersRDD = sc.textFile(filePath)"
   ]
  },
  {
   "cell_type": "code",
   "execution_count": 3,
   "metadata": {},
   "outputs": [
    {
     "data": {
      "text/plain": [
       "D:\\Tirthal-LABs\\xLocal-Git-Repo\\Learning-BigData\\gs-spark\\gs-spark-python\\notebooks\\01\\users.csv MapPartitionsRDD[1] at textFile at NativeMethodAccessorImpl.java:0"
      ]
     },
     "execution_count": 3,
     "metadata": {},
     "output_type": "execute_result"
    }
   ],
   "source": [
    "usersRDD"
   ]
  },
  {
   "cell_type": "markdown",
   "metadata": {},
   "source": [
    "**Do transformations on RDD**"
   ]
  },
  {
   "cell_type": "code",
   "execution_count": 4,
   "metadata": {},
   "outputs": [],
   "source": [
    "usersRDDInUpperCase = usersRDD.map(lambda line: line.upper())"
   ]
  },
  {
   "cell_type": "markdown",
   "metadata": {},
   "source": [
    "**Perform action on RDD**"
   ]
  },
  {
   "cell_type": "code",
   "execution_count": 6,
   "metadata": {},
   "outputs": [
    {
     "data": {
      "text/plain": [
       "['Frank,Riley,friley,changeme,friley@kanab.org,123-456-7890,3,\"1,3\",1040,Teacher,328 Innovation,Suite # 200 ,state college,PA,16803',\n",
       " 'Steve,Brannigan,sbrannigan,changeme,sbrannigan@kanab.org,123-456-7890,3,1,1041,Teacher,328 Innovation,Suite # 200 ,state college,PA,16803',\n",
       " 'Marie,Ambrose,mambrose,changeme,mambrose@kanab.org,123-456-7890,3,1,1042,Teacher,328 Innovation,Suite # 200 ,state college,PA,16803',\n",
       " 'Frank,Riley,friley,changeme,friley@kanab.org,123-456-7890,3,\"1,3\",1040,Teacher,328 Innovation,Suite # 200 ,state college,PA,16803',\n",
       " 'Steve,Brannigan,sbrannigan,changeme,sbrannigan@kanab.org,123-456-7890,3,1,1041,Teacher,328 Innovation,Suite # 200 ,state college,PA,16803']"
      ]
     },
     "execution_count": 6,
     "metadata": {},
     "output_type": "execute_result"
    }
   ],
   "source": [
    "usersRDD.take(5)"
   ]
  },
  {
   "cell_type": "code",
   "execution_count": 11,
   "metadata": {},
   "outputs": [
    {
     "data": {
      "text/plain": [
       "['FRANK,RILEY,FRILEY,CHANGEME,FRILEY@KANAB.ORG,123-456-7890,3,\"1,3\",1040,TEACHER,328 INNOVATION,SUITE # 200 ,STATE COLLEGE,PA,16803',\n",
       " 'STEVE,BRANNIGAN,SBRANNIGAN,CHANGEME,SBRANNIGAN@KANAB.ORG,123-456-7890,3,1,1041,TEACHER,328 INNOVATION,SUITE # 200 ,STATE COLLEGE,PA,16803',\n",
       " 'MARIE,AMBROSE,MAMBROSE,CHANGEME,MAMBROSE@KANAB.ORG,123-456-7890,3,1,1042,TEACHER,328 INNOVATION,SUITE # 200 ,STATE COLLEGE,PA,16803',\n",
       " 'FRANK,RILEY,FRILEY,CHANGEME,FRILEY@KANAB.ORG,123-456-7890,3,\"1,3\",1040,TEACHER,328 INNOVATION,SUITE # 200 ,STATE COLLEGE,PA,16803',\n",
       " 'STEVE,BRANNIGAN,SBRANNIGAN,CHANGEME,SBRANNIGAN@KANAB.ORG,123-456-7890,3,1,1041,TEACHER,328 INNOVATION,SUITE # 200 ,STATE COLLEGE,PA,16803']"
      ]
     },
     "execution_count": 11,
     "metadata": {},
     "output_type": "execute_result"
    }
   ],
   "source": [
    "usersRDDInUpperCase.take(5)"
   ]
  },
  {
   "cell_type": "code",
   "execution_count": 12,
   "metadata": {},
   "outputs": [
    {
     "data": {
      "text/plain": [
       "15"
      ]
     },
     "execution_count": 12,
     "metadata": {},
     "output_type": "execute_result"
    }
   ],
   "source": [
    "usersRDDInUpperCase.count()"
   ]
  },
  {
   "cell_type": "code",
   "execution_count": 13,
   "metadata": {},
   "outputs": [
    {
     "data": {
      "text/plain": [
       "'FRANK,RILEY,FRILEY,CHANGEME,FRILEY@KANAB.ORG,123-456-7890,3,\"1,3\",1040,TEACHER,328 INNOVATION,SUITE # 200 ,STATE COLLEGE,PA,16803'"
      ]
     },
     "execution_count": 13,
     "metadata": {},
     "output_type": "execute_result"
    }
   ],
   "source": [
    "usersRDDInUpperCase.first()"
   ]
  },
  {
   "cell_type": "code",
   "execution_count": 14,
   "metadata": {},
   "outputs": [
    {
     "data": {
      "text/plain": [
       "['FRANK,RILEY,FRILEY,CHANGEME,FRILEY@KANAB.ORG,123-456-7890,3,\"1,3\",1040,TEACHER,328 INNOVATION,SUITE # 200 ,STATE COLLEGE,PA,16803',\n",
       " 'STEVE,BRANNIGAN,SBRANNIGAN,CHANGEME,SBRANNIGAN@KANAB.ORG,123-456-7890,3,1,1041,TEACHER,328 INNOVATION,SUITE # 200 ,STATE COLLEGE,PA,16803',\n",
       " 'MARIE,AMBROSE,MAMBROSE,CHANGEME,MAMBROSE@KANAB.ORG,123-456-7890,3,1,1042,TEACHER,328 INNOVATION,SUITE # 200 ,STATE COLLEGE,PA,16803',\n",
       " 'FRANK,RILEY,FRILEY,CHANGEME,FRILEY@KANAB.ORG,123-456-7890,3,\"1,3\",1040,TEACHER,328 INNOVATION,SUITE # 200 ,STATE COLLEGE,PA,16803',\n",
       " 'STEVE,BRANNIGAN,SBRANNIGAN,CHANGEME,SBRANNIGAN@KANAB.ORG,123-456-7890,3,1,1041,TEACHER,328 INNOVATION,SUITE # 200 ,STATE COLLEGE,PA,16803',\n",
       " 'MARIE,AMBROSE,MAMBROSE,CHANGEME,MAMBROSE@KANAB.ORG,123-456-7890,3,1,1042,TEACHER,328 INNOVATION,SUITE # 200 ,STATE COLLEGE,PA,16803',\n",
       " 'FRANK,RILEY,FRILEY,CHANGEME,FRILEY@KANAB.ORG,123-456-7890,3,\"1,3\",1040,TEACHER,328 INNOVATION,SUITE # 200 ,STATE COLLEGE,PA,16803',\n",
       " 'STEVE,BRANNIGAN,SBRANNIGAN,CHANGEME,SBRANNIGAN@KANAB.ORG,123-456-7890,3,1,1041,TEACHER,328 INNOVATION,SUITE # 200 ,STATE COLLEGE,PA,16803',\n",
       " 'MARIE,AMBROSE,MAMBROSE,CHANGEME,MAMBROSE@KANAB.ORG,123-456-7890,3,1,1042,TEACHER,328 INNOVATION,SUITE # 200 ,STATE COLLEGE,PA,16803',\n",
       " 'FRANK,RILEY,FRILEY,CHANGEME,FRILEY@KANAB.ORG,123-456-7890,3,\"1,3\",1040,TEACHER,328 INNOVATION,SUITE # 200 ,STATE COLLEGE,PA,16803',\n",
       " 'STEVE,BRANNIGAN,SBRANNIGAN,CHANGEME,SBRANNIGAN@KANAB.ORG,123-456-7890,3,1,1041,TEACHER,328 INNOVATION,SUITE # 200 ,STATE COLLEGE,PA,16803',\n",
       " 'MARIE,AMBROSE,MAMBROSE,CHANGEME,MAMBROSE@KANAB.ORG,123-456-7890,3,1,1042,TEACHER,328 INNOVATION,SUITE # 200 ,STATE COLLEGE,PA,16803',\n",
       " 'FRANK,RILEY,FRILEY,CHANGEME,FRILEY@KANAB.ORG,123-456-7890,3,\"1,3\",1040,TEACHER,328 INNOVATION,SUITE # 200 ,STATE COLLEGE,PA,16803',\n",
       " 'STEVE,BRANNIGAN,SBRANNIGAN,CHANGEME,SBRANNIGAN@KANAB.ORG,123-456-7890,3,1,1041,TEACHER,328 INNOVATION,SUITE # 200 ,STATE COLLEGE,PA,16803',\n",
       " 'MARIE,AMBROSE,MAMBROSE,CHANGEME,MAMBROSE@KANAB.ORG,123-456-7890,3,1,1042,TEACHER,328 INNOVATION,SUITE # 200 ,STATE COLLEGE,PA,16803']"
      ]
     },
     "execution_count": 14,
     "metadata": {},
     "output_type": "execute_result"
    }
   ],
   "source": [
    "usersRDDInUpperCase.collect()"
   ]
  },
  {
   "cell_type": "code",
   "execution_count": null,
   "metadata": {
    "collapsed": true
   },
   "outputs": [],
   "source": []
  },
  {
   "cell_type": "markdown",
   "metadata": {},
   "source": [
    "### Disclaimer"
   ]
  },
  {
   "cell_type": "markdown",
   "metadata": {},
   "source": [
    "This is an example code of the [pluralsight course](https://app.pluralsight.com/library/courses/apache-spark-beginning-data-exploration-analysis), which I just upgraded to work with Python 3.6 while learning Spark."
   ]
  }
 ],
 "metadata": {
  "kernelspec": {
   "display_name": "Python 3",
   "language": "python",
   "name": "python3"
  },
  "language_info": {
   "codemirror_mode": {
    "name": "ipython",
    "version": 3
   },
   "file_extension": ".py",
   "mimetype": "text/x-python",
   "name": "python",
   "nbconvert_exporter": "python",
   "pygments_lexer": "ipython3",
   "version": "3.6.5"
  }
 },
 "nbformat": 4,
 "nbformat_minor": 1
}
